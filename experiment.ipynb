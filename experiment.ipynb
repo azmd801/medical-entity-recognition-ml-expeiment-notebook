{
 "cells": [
  {
   "cell_type": "markdown",
   "metadata": {},
   "source": [
    "## Installing all the dependencies"
   ]
  },
  {
   "cell_type": "code",
   "execution_count": null,
   "metadata": {
    "id": "s_XI2dOFTZXN"
   },
   "outputs": [],
   "source": [
    "# !pip install datasets\n",
    "# !pip install accelerate -U\n",
    "# !pip install transformers[torch]\n",
    "# !pip install evaluate\n",
    "# !pip install seqeval\n",
    "# !pip install boto3\n",
    "# !pip install python-dotenv\n",
    "!pip install aioboto3\n",
    "\n",
    "## conda install pytorch pytorch-cuda=11.8 -c pytorch -c nvidia\n",
    "## pip install ipykernel"
   ]
  },
  {
   "cell_type": "code",
   "execution_count": 1,
   "metadata": {},
   "outputs": [
    {
     "name": "stdout",
     "output_type": "stream",
     "text": [
      "Sun Apr 21 20:44:16 2024       \n",
      "+-----------------------------------------------------------------------------+\n",
      "| NVIDIA-SMI 522.06       Driver Version: 522.06       CUDA Version: 11.8     |\n",
      "|-------------------------------+----------------------+----------------------+\n",
      "| GPU  Name            TCC/WDDM | Bus-Id        Disp.A | Volatile Uncorr. ECC |\n",
      "| Fan  Temp  Perf  Pwr:Usage/Cap|         Memory-Usage | GPU-Util  Compute M. |\n",
      "|                               |                      |               MIG M. |\n",
      "|===============================+======================+======================|\n",
      "|   0  NVIDIA GeForce ... WDDM  | 00000000:01:00.0 Off |                  N/A |\n",
      "| N/A   85C    P5     8W /  N/A |    159MiB /  4096MiB |      6%      Default |\n",
      "|                               |                      |                  N/A |\n",
      "+-------------------------------+----------------------+----------------------+\n",
      "                                                                               \n",
      "+-----------------------------------------------------------------------------+\n",
      "| Processes:                                                                  |\n",
      "|  GPU   GI   CI        PID   Type   Process name                  GPU Memory |\n",
      "|        ID   ID                                                   Usage      |\n",
      "|=============================================================================|\n",
      "|    0   N/A  N/A      6380    C+G   ...8wekyb3d8bbwe\\Cortana.exe    N/A      |\n",
      "|    0   N/A  N/A      6524    C+G   ...n1h2txyewy\\SearchHost.exe    N/A      |\n",
      "|    0   N/A  N/A     12472    C+G   ...8bbwe\\Notepad\\Notepad.exe    N/A      |\n",
      "|    0   N/A  N/A     15072    C+G   ...artMenuExperienceHost.exe    N/A      |\n",
      "|    0   N/A  N/A     17968    C+G   ...-0.4.23\\Postman Agent.exe    N/A      |\n",
      "|    0   N/A  N/A     18192    C+G   ...ontend\\Docker Desktop.exe    N/A      |\n",
      "|    0   N/A  N/A     18328    C+G   ...icrosoft VS Code\\Code.exe    N/A      |\n",
      "|    0   N/A  N/A     18420    C+G   ...420.97\\msedgewebview2.exe    N/A      |\n",
      "|    0   N/A  N/A     20252    C+G   ...2txyewy\\TextInputHost.exe    N/A      |\n",
      "|    0   N/A  N/A     22228    C+G   ...ekyb3d8bbwe\\YourPhone.exe    N/A      |\n",
      "|    0   N/A  N/A     23016    C+G   ...420.97\\msedgewebview2.exe    N/A      |\n",
      "|    0   N/A  N/A     24368    C+G   ...8bbwe\\Notepad\\Notepad.exe    N/A      |\n",
      "|    0   N/A  N/A     25348    C+G   ...8bbwe\\Notepad\\Notepad.exe    N/A      |\n",
      "+-----------------------------------------------------------------------------+\n"
     ]
    }
   ],
   "source": [
    "!nvidia-smi"
   ]
  },
  {
   "cell_type": "code",
   "execution_count": 27,
   "metadata": {},
   "outputs": [
    {
     "data": {
      "text/plain": [
       "True"
      ]
     },
     "execution_count": 27,
     "metadata": {},
     "output_type": "execute_result"
    }
   ],
   "source": [
    "import json\n",
    "from datasets import load_dataset,DatasetDict\n",
    "# from sklearn.preprocessing import LabelEncoder\n",
    "from pathlib import Path\n",
    "import torch\n",
    "import os\n",
    "import boto3\n",
    "from botocore.exceptions import ClientError\n",
    "import asyncio\n",
    "import aioboto3\n",
    "from dotenv import load_dotenv\n",
    "\n",
    "# Load environment variables from .env file\n",
    "load_dotenv()\n",
    "# from .autonotebook import tqdm as notebook_tqdm"
   ]
  },
  {
   "cell_type": "code",
   "execution_count": 3,
   "metadata": {},
   "outputs": [
    {
     "data": {
      "text/plain": [
       "'cuda'"
      ]
     },
     "execution_count": 3,
     "metadata": {},
     "output_type": "execute_result"
    }
   ],
   "source": [
    "device = \"cuda\" if torch.cuda.is_available() else \"cpu\"\n",
    "device"
   ]
  },
  {
   "cell_type": "markdown",
   "metadata": {},
   "source": [
    "## Iniitalizing notebook with some Constants, varaiables and function to be used "
   ]
  },
  {
   "cell_type": "code",
   "execution_count": 48,
   "metadata": {},
   "outputs": [],
   "source": [
    "# constants to hold access key and id using environment variables\n",
    "\n",
    "aws_access_key_id =  os.environ.get('AWS_ACCESS_KEY_ID')\n",
    "aws_secret_access_key = os.environ.get('AWS_SECRET_ACCESS_KEY')\n",
    "\n",
    "# constants holding s3 bucket name and keys where data is hosted and transformed dat will be saved.\n",
    "s3_bucket = 'medical-entity-recognition-bucket'\n",
    "## hosted data\n",
    "s3_train_data_key = 'HistoricalData/AnEM.train'\n",
    "s3_test_data_key = 'HistoricalData/AnEM.test'\n",
    "## transfomed data\n",
    "s3_train_json_data_key = 'transformed_to_json/train.json'\n",
    "s3_test_json_data_key = 'transformed_to_json/test.json'\n",
    "\n",
    "# contants holding path varaible to save loaded and transfromed data \n",
    "raw_data_path = Path('Historical_data')\n",
    "transformed_data_path = Path('transformed_dataset')\n",
    "train_json_data_path = os.path.join(transformed_data_path,'train.json')\n",
    "test_json_data_path = os.path.join(transformed_data_path,'test.json')\n",
    "\n",
    "# Create an S3 resource with explicit credentials if provided\n",
    "s3_resource = boto3.resource('s3', aws_access_key_id=aws_access_key_id, aws_secret_access_key=aws_secret_access_key)\n"
   ]
  },
  {
   "cell_type": "code",
   "execution_count": 50,
   "metadata": {},
   "outputs": [],
   "source": [
    "def create_directory(directory: Path) -> None:\n",
    "    \"\"\"\n",
    "    Create a directory if it doesn't exist and print a message if it already exists.\n",
    "\n",
    "    Args:\n",
    "        directory (Path): The directory path to create.\n",
    "    \"\"\"\n",
    "    if directory.exists():\n",
    "        print(f\"Directory '{directory}' already exists.\")\n",
    "    else:\n",
    "        directory.mkdir(parents=True, exist_ok=True)\n",
    "        print(f\"Directory '{directory}' created.\")"
   ]
  },
  {
   "cell_type": "code",
   "execution_count": 15,
   "metadata": {},
   "outputs": [],
   "source": [
    "def download_s3_object(bucket_name: str, object_key: str, local_dir: str) -> None:\n",
    "    \"\"\"\n",
    "    Download an object from an S3 bucket \n",
    "    and save it to a local directory.\n",
    "    \"\"\"\n",
    "\n",
    "    try:\n",
    "        # Get the bucket object\n",
    "        bucket = s3_resource.Bucket(bucket_name)\n",
    "        # Download the object to a local file\n",
    "        local_file_path = os.path.join(local_dir, os.path.basename(object_key))\n",
    "\n",
    "        bucket.download_file(object_key, local_file_path)\n",
    "        \n",
    "    except ClientError as e:\n",
    "        if e.response['Error']['Code'] == 'NoSuchKey':\n",
    "            print(f\"The object with key '{object_key}' does not exist in the bucket '{bucket_name}'.\")\n",
    "        else:\n",
    "            print(f\"Error downloading object: {e}\")\n",
    "    except Exception as e:\n",
    "        print(f\"Unexpected error: {e}\")\n",
    "        # return None"
   ]
  },
  {
   "cell_type": "code",
   "execution_count": 23,
   "metadata": {},
   "outputs": [],
   "source": [
    "def convert_dataset_to_json(input_file_path: str, output_file_path: str) -> None:\n",
    "    \"\"\"\n",
    "    Converts a dataset from a text format to JSON format.\n",
    "    \"\"\"\n",
    "    \n",
    "    with open(input_file_path, 'r') as input_file, open(output_file_path, 'w') as output_file:\n",
    "        dataset = []\n",
    "        current_text = []\n",
    "        current_label = []\n",
    "        current_indices = []\n",
    "\n",
    "        for line in input_file:\n",
    "            if line.strip() == \"\":\n",
    "                if current_text:\n",
    "                    example = {\"text\": current_text, \"label\": current_label, \"token_indices\": current_indices}\n",
    "                    dataset.append(example)\n",
    "                    current_text = []\n",
    "                    current_label = []\n",
    "                    current_indices = []\n",
    "            else:\n",
    "                parts = line.strip().split(\"\\t\")\n",
    "                token = parts[0]\n",
    "                label = parts[-1]\n",
    "                start_index = int(parts[1])\n",
    "                end_index = int(parts[2])\n",
    "                current_text.append(token)\n",
    "                current_label.append(label)\n",
    "                current_indices.append((start_index, end_index))\n",
    "\n",
    "        json.dump(dataset, output_file, indent=4)\n",
    "\n"
   ]
  },
  {
   "cell_type": "code",
   "execution_count": 43,
   "metadata": {},
   "outputs": [],
   "source": [
    "\n",
    "def upload_file_to_s3(bucket_name: str, local_file_path: str, s3_key: str) -> None:\n",
    "    \"\"\"\n",
    "    Upload a local file to an S3 bucket.\n",
    "    \"\"\"\n",
    "    try:\n",
    "        # Upload the file to S3\n",
    "        s3_resource.Bucket(bucket_name).upload_file(Filename=local_file_path, Key=s3_key)\n",
    "        print(f\"File '{local_file_path}' uploaded to '{bucket_name}/{s3_key}'.\")\n",
    "\n",
    "    except ClientError as e:\n",
    "        # Handle any errors\n",
    "        print(f\"Error uploading file to S3: {e}\")\n"
   ]
  },
  {
   "cell_type": "markdown",
   "metadata": {},
   "source": [
    "## Data  Ingestion"
   ]
  },
  {
   "cell_type": "markdown",
   "metadata": {},
   "source": [
    "### Creating the required folder\n"
   ]
  },
  {
   "cell_type": "code",
   "execution_count": 53,
   "metadata": {},
   "outputs": [
    {
     "name": "stdout",
     "output_type": "stream",
     "text": [
      "Directory 'Historical_data' created.\n",
      "Directory 'transformed_dataset' created.\n"
     ]
    }
   ],
   "source": [
    "# directory to store hstorical data \n",
    "create_directory(raw_data_path)\n",
    "\n",
    "# directory to store transformed json data\n",
    "create_directory(transformed_data_path)"
   ]
  },
  {
   "cell_type": "markdown",
   "metadata": {},
   "source": [
    "### Downloading historical data from S3 bucket"
   ]
  },
  {
   "cell_type": "code",
   "execution_count": 54,
   "metadata": {},
   "outputs": [
    {
     "data": {
      "text/plain": [
       "'Historical_data\\\\AnEM.test'"
      ]
     },
     "execution_count": 54,
     "metadata": {},
     "output_type": "execute_result"
    }
   ],
   "source": [
    "# download historical train data from S3\n",
    "download_s3_object(\n",
    "    bucket_name=s3_bucket,\n",
    "    object_key=s3_train_data_key,\n",
    "    local_dir=raw_data_path,\n",
    "    )\n",
    "\n",
    "# download historical test data from S3\n",
    "download_s3_object(\n",
    "    bucket_name=s3_bucket,\n",
    "    object_key=s3_test_data_key,\n",
    "    local_dir=raw_data_path,\n",
    "    )"
   ]
  },
  {
   "cell_type": "markdown",
   "metadata": {},
   "source": [
    "### Converting raw training data to json fomat"
   ]
  },
  {
   "cell_type": "code",
   "execution_count": 55,
   "metadata": {},
   "outputs": [],
   "source": [
    "# converting train data to json fomat\n",
    "convert_dataset_to_json(\n",
    "    input_file_path=os.path.join(raw_data_path,os.path.basename(s3_train_data_key)),\n",
    "    output_file_path=train_json_data_path\n",
    "    )\n",
    "\n",
    "# converting test data to json format\n",
    "convert_dataset_to_json(\n",
    "    input_file_path=os.path.join(raw_data_path,os.path.basename(s3_test_data_key)),\n",
    "    output_file_path=test_json_data_path\n",
    "    )"
   ]
  },
  {
   "cell_type": "markdown",
   "metadata": {},
   "source": [
    "### storing the json data to s3 bucket\n"
   ]
  },
  {
   "cell_type": "code",
   "execution_count": 56,
   "metadata": {},
   "outputs": [
    {
     "name": "stdout",
     "output_type": "stream",
     "text": [
      "File 'transformed_dataset\\train.json' uploaded to 'medical-entity-recognition-bucket/transformed_to_json/train.json'.\n",
      "File 'transformed_dataset\\test.json' uploaded to 'medical-entity-recognition-bucket/transformed_to_json/test.json'.\n"
     ]
    }
   ],
   "source": [
    "# storing train data json to s3 bucket\n",
    "upload_file_to_s3(\n",
    "    bucket_name=s3_bucket,\n",
    "    local_file_path=train_json_data_path,\n",
    "    s3_key=s3_train_json_data_key\n",
    "    )\n",
    "\n",
    "# storing test data json to s3 bucket\n",
    "upload_file_to_s3(\n",
    "    bucket_name=s3_bucket,\n",
    "    local_file_path=test_json_data_path,\n",
    "    s3_key=s3_test_json_data_key\n",
    "    ) "
   ]
  },
  {
   "cell_type": "markdown",
   "metadata": {},
   "source": [
    "### Transforming the json data hugging face dataset"
   ]
  },
  {
   "cell_type": "code",
   "execution_count": 7,
   "metadata": {
    "colab": {
     "base_uri": "https://localhost:8080/",
     "height": 145,
     "referenced_widgets": [
      "1c627d401da84b5397256c606363b118",
      "e7f356148dc94cd5987437da1917bde7",
      "98068db939e9497dbbdf836c862218ba",
      "3d067c3508064c6e982751fb76c2513c",
      "09e3c9f6e78f43ee8893226652f5afa6",
      "46229d1b27da440589d2e99d67938d24",
      "a4386c9508f04c6b81fbe44977dbfdcb",
      "305fa88f55dd4534b86d6e956a2722f4",
      "4d73484bdfa84d1fbedd6d0040397f80",
      "19714122faf24145b0edc8bc64ae6401",
      "d1279ee8147f45d89e68d24832eb21c6"
     ]
    },
    "id": "BxyMm_K_bzmM",
    "outputId": "0a6aa910-e801-4bd8-a309-9e342c899766"
   },
   "outputs": [
    {
     "name": "stdout",
     "output_type": "stream",
     "text": [
      "Label List: ['B-Anatomical_system', 'B-Cell', 'B-Cellular_component', 'B-Developing_anatomical_structure', 'B-Immaterial_anatomical_entity', 'B-Multi-tissue_structure', 'B-Organ', 'B-Organism_subdivision', 'B-Organism_substance', 'B-Pathological_formation', 'B-Tissue', 'I-Anatomical_system', 'I-Cell', 'I-Cellular_component', 'I-Developing_anatomical_structure', 'I-Immaterial_anatomical_entity', 'I-Multi-tissue_structure', 'I-Organ', 'I-Organism_subdivision', 'I-Organism_substance', 'I-Pathological_formation', 'I-Tissue', 'O']\n",
      "Label to Encoded: {'B-Anatomical_system': 0, 'B-Cell': 1, 'B-Cellular_component': 2, 'B-Developing_anatomical_structure': 3, 'B-Immaterial_anatomical_entity': 4, 'B-Multi-tissue_structure': 5, 'B-Organ': 6, 'B-Organism_subdivision': 7, 'B-Organism_substance': 8, 'B-Pathological_formation': 9, 'B-Tissue': 10, 'I-Anatomical_system': 11, 'I-Cell': 12, 'I-Cellular_component': 13, 'I-Developing_anatomical_structure': 14, 'I-Immaterial_anatomical_entity': 15, 'I-Multi-tissue_structure': 16, 'I-Organ': 17, 'I-Organism_subdivision': 18, 'I-Organism_substance': 19, 'I-Pathological_formation': 20, 'I-Tissue': 21, 'O': 22}\n",
      "Encoded to Label: {0: 'B-Anatomical_system', 1: 'B-Cell', 2: 'B-Cellular_component', 3: 'B-Developing_anatomical_structure', 4: 'B-Immaterial_anatomical_entity', 5: 'B-Multi-tissue_structure', 6: 'B-Organ', 7: 'B-Organism_subdivision', 8: 'B-Organism_substance', 9: 'B-Pathological_formation', 10: 'B-Tissue', 11: 'I-Anatomical_system', 12: 'I-Cell', 13: 'I-Cellular_component', 14: 'I-Developing_anatomical_structure', 15: 'I-Immaterial_anatomical_entity', 16: 'I-Multi-tissue_structure', 17: 'I-Organ', 18: 'I-Organism_subdivision', 19: 'I-Organism_substance', 20: 'I-Pathological_formation', 21: 'I-Tissue', 22: 'O'}\n"
     ]
    }
   ],
   "source": [
    "# Load the  JSON file using \n",
    "train_json = r\"D:\\ML projects\\Medical_Enity_recognition\\transformed_dataset\\train_dataset.json\"\n",
    "dataset = load_dataset('json', data_files=train_json)\n",
    "# Extract unique labels from the dataset\n",
    "unique_labels = set()\n",
    "for example in dataset['train']:\n",
    "    unique_labels.update(example['label'])\n",
    "\n",
    "# Sort the unique labels alphabetically\n",
    "label_list = sorted(unique_labels)\n",
    "print(\"Label List:\", label_list)\n",
    "\n",
    "# Initialize a dictionary to map labels to encoded values\n",
    "label2id = {label: encoded for encoded, label in enumerate(label_list)}\n",
    "\n",
    "# Initialize a dictionary to map encoded values back to labels\n",
    "id2label = {encoded: label for label, encoded in label2id.items()}\n",
    "\n",
    "# Print or use the dictionaries\n",
    "print(\"Label to Encoded:\", label2id)\n",
    "print(\"Encoded to Label:\", id2label)\n"
   ]
  },
  {
   "cell_type": "code",
   "execution_count": 8,
   "metadata": {
    "id": "M6EUd981YHQF"
   },
   "outputs": [
    {
     "data": {
      "text/plain": [
       "DatasetDict({\n",
       "    train: Dataset({\n",
       "        features: ['label', 'text', 'token_indices'],\n",
       "        num_rows: 1812\n",
       "    })\n",
       "    validation: Dataset({\n",
       "        features: ['label', 'text', 'token_indices'],\n",
       "        num_rows: 454\n",
       "    })\n",
       "})"
      ]
     },
     "execution_count": 8,
     "metadata": {},
     "output_type": "execute_result"
    }
   ],
   "source": [
    "dataset= dataset['train'].train_test_split(test_size=0.2, train_size=0.8, seed=42)\n",
    "\n",
    "dataset= DatasetDict({\n",
    "    'train':dataset['train'],\n",
    "    'validation': dataset['test']\n",
    "})\n",
    "dataset"
   ]
  },
  {
   "cell_type": "code",
   "execution_count": 9,
   "metadata": {
    "colab": {
     "base_uri": "https://localhost:8080/"
    },
    "id": "69EYLdEz7ctu",
    "outputId": "a0f47d8a-f082-4725-e5cd-59ad5db79fe3"
   },
   "outputs": [
    {
     "data": {
      "text/plain": [
       "DatasetDict({\n",
       "    train: Dataset({\n",
       "        features: ['label', 'text', 'token_indices'],\n",
       "        num_rows: 100\n",
       "    })\n",
       "    validation: Dataset({\n",
       "        features: ['label', 'text', 'token_indices'],\n",
       "        num_rows: 100\n",
       "    })\n",
       "})"
      ]
     },
     "execution_count": 9,
     "metadata": {},
     "output_type": "execute_result"
    }
   ],
   "source": [
    "# working with small sample for testing prupose only please comment this during training\n",
    "train  = dataset['train'].select(list(range(100)))\n",
    "validation = train  = dataset['validation'].select(list(range(100)))\n",
    "\n",
    "small_dataset= DatasetDict({\n",
    "    'train': train,\n",
    "    'validation': validation\n",
    "})\n",
    "\n",
    "small_dataset"
   ]
  },
  {
   "cell_type": "code",
   "execution_count": null,
   "metadata": {
    "colab": {
     "base_uri": "https://localhost:8080/",
     "height": 219
    },
    "id": "RfkmVFMiftYH",
    "outputId": "756decc9-26d7-4fb6-92bb-527e71cb50f1"
   },
   "outputs": [],
   "source": [
    "# example = dataset[\"train\"][0]\n",
    "# tokenized_input = tokenizer(example[\"text\"], is_split_into_words=True)\n",
    "# tokens = tokenizer.convert_ids_to_tokens(tokenized_input[\"input_ids\"])\n",
    "# print(tokens)\n",
    "# print(tokenized_input)\n",
    "# print(len(example[\"text\"]),len(tokens),len(tokenized_input[\"input_ids\"]))"
   ]
  },
  {
   "cell_type": "code",
   "execution_count": null,
   "metadata": {
    "id": "kvoD_6-EkMwq"
   },
   "outputs": [],
   "source": [
    "# tokenized_input.word_ids(batch_index=0)"
   ]
  },
  {
   "cell_type": "markdown",
   "metadata": {},
   "source": [
    "### Transforming dataset to compatible with hugging face transformer \n"
   ]
  },
  {
   "cell_type": "markdown",
   "metadata": {
    "id": "19HJJfwGiprI"
   },
   "source": [
    " A single word corresponding to a single label may now be split into two subwords. You’ll need to realign the tokens and labels by:\n",
    "\n",
    "Mapping all tokens to their corresponding word with the word_ids method.\n",
    "Assigning the label -100 to the special tokens [CLS] and [SEP] so they’re ignored by the PyTorch loss function (see CrossEntropyLoss).\n",
    "Only labeling the first token of a given word. Assign -100 to other subtokens from the same word."
   ]
  },
  {
   "cell_type": "code",
   "execution_count": 10,
   "metadata": {
    "id": "Jb8jLjQOoTBv"
   },
   "outputs": [],
   "source": [
    "from transformers import BertTokenizerFast, BertForTokenClassification\n",
    "\n",
    "tokenizer = BertTokenizerFast.from_pretrained('bert-base-uncased')\n",
    "\n",
    "def tokenize_and_align_labels(examples):\n",
    "    \n",
    "    tokenized_inputs = tokenizer(examples[\"text\"], truncation=True, is_split_into_words=True)\n",
    "\n",
    "    labels = []\n",
    "\n",
    "    for i, label in enumerate(examples[f\"label\"]):\n",
    "        label = [label2id[l] for l in label]\n",
    "        word_ids = tokenized_inputs.word_ids(batch_index=i)  # Map tokens to their respective word.\n",
    "        previous_word_idx = None\n",
    "        label_ids = []\n",
    "        for word_idx in word_ids:  # Set the special tokens to -100.\n",
    "            if word_idx is None:\n",
    "                label_ids.append(-100)\n",
    "            elif word_idx != previous_word_idx:  # Only label the first token of a given word.\n",
    "                label_ids.append(label[word_idx])\n",
    "          \n",
    "            else:\n",
    "                label_ids.append(-100)\n",
    "            previous_word_idx = word_idx\n",
    "        labels.append(label_ids)\n",
    "\n",
    "    tokenized_inputs[\"labels\"] = labels\n",
    "\n",
    "    return tokenized_inputs"
   ]
  },
  {
   "cell_type": "code",
   "execution_count": 11,
   "metadata": {
    "colab": {
     "base_uri": "https://localhost:8080/",
     "height": 81,
     "referenced_widgets": [
      "0b6523e0bbdb45438024b3d2d2732b0a",
      "b2424abecf3848358b635e0b11bd4409",
      "841fe00c5ec14d7b9c064620881df749",
      "b7dd16cd37914c828c6720ec4bc9db49",
      "4b1b2fe6839842b58fae13564210caf8",
      "77cd3451f33249489c5a3e9588a093dc",
      "83d0bf55cb1c4924adcb72a9f6a9742b",
      "a5b56bce7c474461b6db66c56afe05c3",
      "b09ccde13d6342e3807c0fcdc50cadde",
      "ef520877416e4395b15e1e1358e3b236",
      "670836c2aec8423bb5fda4e003017035",
      "ae60d288b0e845b692212b578381089a",
      "ad60bc9d9e3c4fdeb4ad36d0ac2d098e",
      "525d3ad6f29642e492f97e89f4377b14",
      "9311f52c921e486db06a2f71ba229d51",
      "b10bdf486ecd44588573d4933c38ff67",
      "08655f98cd214c618a6e57bf6f3d3e02",
      "d40f126745b8479eaf46f3ababfed9cf",
      "5f9c18528a0a4ef8b223a79b0053b5c8",
      "18f742f5923d4ff39b87acb2d997e8d1",
      "29d44e1293c948ca85bd6aed2ab2970d",
      "2fe4a7068218434e974dcdb2bf8c5a89"
     ]
    },
    "id": "jAzbmxRJajf5",
    "outputId": "e7dbf477-cf8e-4261-d8e4-454d3df29a7a"
   },
   "outputs": [
    {
     "name": "stderr",
     "output_type": "stream",
     "text": [
      "Map:   0%|          | 0/100 [00:00<?, ? examples/s]"
     ]
    },
    {
     "name": "stderr",
     "output_type": "stream",
     "text": [
      "Map: 100%|██████████| 100/100 [00:00<00:00, 281.30 examples/s]\n",
      "Map: 100%|██████████| 100/100 [00:00<00:00, 203.22 examples/s]\n"
     ]
    }
   ],
   "source": [
    "transformer_dataset = small_dataset.map(tokenize_and_align_labels,batched=True)"
   ]
  },
  {
   "cell_type": "code",
   "execution_count": 12,
   "metadata": {
    "id": "-oXZKptoJLov"
   },
   "outputs": [],
   "source": [
    "transformer_dataset = transformer_dataset.rename_column(\"label\", \"tags\")"
   ]
  },
  {
   "cell_type": "code",
   "execution_count": 13,
   "metadata": {
    "colab": {
     "base_uri": "https://localhost:8080/"
    },
    "id": "FWfudHFkgGaR",
    "outputId": "6fdce957-28d0-482a-9d98-608746a3872f"
   },
   "outputs": [
    {
     "data": {
      "text/plain": [
       "DatasetDict({\n",
       "    train: Dataset({\n",
       "        features: ['tags', 'text', 'token_indices', 'input_ids', 'token_type_ids', 'attention_mask', 'labels'],\n",
       "        num_rows: 100\n",
       "    })\n",
       "    validation: Dataset({\n",
       "        features: ['tags', 'text', 'token_indices', 'input_ids', 'token_type_ids', 'attention_mask', 'labels'],\n",
       "        num_rows: 100\n",
       "    })\n",
       "})"
      ]
     },
     "execution_count": 13,
     "metadata": {},
     "output_type": "execute_result"
    }
   ],
   "source": [
    "transformer_dataset"
   ]
  },
  {
   "cell_type": "code",
   "execution_count": 14,
   "metadata": {
    "colab": {
     "base_uri": "https://localhost:8080/"
    },
    "id": "2RReH1Ey-yZr",
    "outputId": "5cad8b97-6538-4330-e495-cb7b09b34c00"
   },
   "outputs": [
    {
     "name": "stdout",
     "output_type": "stream",
     "text": [
      "[-100, 22, 22, 22, 22, -100, -100, 22, -100, 22, 22, 22, 22, 22, -100, -100, -100, -100, -100, -100, -100, -100, -100, -100, -100, -100, -100, -100, -100, -100, 22, 22, 22, 22, 22, 22, 22, 22, 22, 22, 22, -100, -100, -100, -100, -100, -100, -100, -100, 22, 22, 22, 22, 22, 22, 22, -100]\n"
     ]
    }
   ],
   "source": [
    "print((transformer_dataset['train'][0]['labels']))\n",
    "# print((transformer_dataset['train'][0]['labels']))\n",
    "# print(tokens)\n"
   ]
  },
  {
   "cell_type": "markdown",
   "metadata": {},
   "source": [
    "## Model fine Tuning"
   ]
  },
  {
   "cell_type": "markdown",
   "metadata": {},
   "source": [
    "### Defining evaluation metirc for evaluating test and validation data"
   ]
  },
  {
   "cell_type": "code",
   "execution_count": 15,
   "metadata": {
    "colab": {
     "base_uri": "https://localhost:8080/",
     "height": 49,
     "referenced_widgets": [
      "823fcbba62b44b2fafe607112e9a560f",
      "15fb5d8f6ac8442e9ebfb5f7839f982a",
      "09b2453790434825b5c8f1d3051f6a9e",
      "7f8971bd6b92463f90ace335b9bae947",
      "d282e874dfa44409a77c0587af73fee7",
      "df2c67c8ffe845258e3b968ed41234c8",
      "9b9c4028af5a4fef99413af2d816e7f2",
      "cb8d35133d314ec2bbe3d82e138d8e51",
      "deb1f39371664c91a05e46f927feb153",
      "29dba5c6ca93455485c3ef7a3999fcd4",
      "4e924dd7e278471298297d0d9cd65f4d"
     ]
    },
    "id": "ptTQUNlmLIRc",
    "outputId": "62b7d0ea-9fc0-4fe6-e2b1-e9dff3cdf590"
   },
   "outputs": [],
   "source": [
    "import evaluate\n",
    "\n",
    "seqeval = evaluate.load(\"seqeval\")"
   ]
  },
  {
   "cell_type": "code",
   "execution_count": 16,
   "metadata": {
    "id": "n9jA1iNeLSst"
   },
   "outputs": [],
   "source": [
    "import numpy as np\n",
    "\n",
    "def compute_metrics(p):\n",
    "    predictions, labels = p\n",
    "    predictions = np.argmax(predictions, axis=2)\n",
    "\n",
    "    true_predictions = [\n",
    "        [label_list[p] for (p, l) in zip(prediction, label) if l != -100]\n",
    "        for prediction, label in zip(predictions, labels)\n",
    "    ]\n",
    "    true_labels = [\n",
    "        [label_list[l] for (p, l) in zip(prediction, label) if l != -100]\n",
    "        for prediction, label in zip(predictions, labels)\n",
    "    ]\n",
    "\n",
    "    results = seqeval.compute(predictions=true_predictions, references=true_labels)\n",
    "    return {\n",
    "        \"precision\": results[\"overall_precision\"],\n",
    "        \"recall\": results[\"overall_recall\"],\n",
    "        \"f1\": results[\"overall_f1\"],\n",
    "        \"accuracy\": results[\"overall_accuracy\"],\n",
    "    }"
   ]
  },
  {
   "cell_type": "markdown",
   "metadata": {},
   "source": [
    "### Defining training arguments and initializing trainer compatible for hugging face transformer library"
   ]
  },
  {
   "cell_type": "code",
   "execution_count": 18,
   "metadata": {
    "colab": {
     "base_uri": "https://localhost:8080/"
    },
    "id": "VYWhLyBSgbJl",
    "outputId": "e6b4574a-0cbd-413f-d456-267f7ee41c1d"
   },
   "outputs": [
    {
     "name": "stderr",
     "output_type": "stream",
     "text": [
      "Some weights of BertForTokenClassification were not initialized from the model checkpoint at bert-base-uncased and are newly initialized: ['classifier.bias', 'classifier.weight']\n",
      "You should probably TRAIN this model on a down-stream task to be able to use it for predictions and inference.\n"
     ]
    }
   ],
   "source": [
    "from transformers import TrainingArguments, Trainer\n",
    "from transformers import DataCollatorForTokenClassification\n",
    "\n",
    "torch.cuda.empty_cache()\n",
    "\n",
    "model = BertForTokenClassification.from_pretrained('bert-base-uncased', num_labels=len(label_list))\n",
    "\n",
    "data_collator = DataCollatorForTokenClassification(tokenizer)\n",
    "\n",
    "# Define the training arguments\n",
    "training_args = TrainingArguments(\n",
    "    per_device_train_batch_size=2,\n",
    "    num_train_epochs=3,\n",
    "    logging_dir='./logs',\n",
    "    output_dir= '/content/chekpoints',\n",
    "        # output_dir=\"my_awesome_wnut_model\",\n",
    "    learning_rate=2e-5,\n",
    "    per_device_eval_batch_size=2,\n",
    "    weight_decay=0.01,\n",
    "    evaluation_strategy=\"epoch\",\n",
    "    save_strategy=\"epoch\",\n",
    "    load_best_model_at_end=True,\n",
    "    # push_to_hub=True,\n",
    ")\n",
    "\n",
    "# Initialize the Trainer\n",
    "trainer = Trainer(\n",
    "    model=model,\n",
    "    tokenizer=tokenizer,data_collator=data_collator,\n",
    "    args=training_args,\n",
    "    train_dataset=transformer_dataset['train'],\n",
    "    eval_dataset=transformer_dataset['validation'],\n",
    "    compute_metrics=compute_metrics,\n",
    ")"
   ]
  },
  {
   "cell_type": "markdown",
   "metadata": {},
   "source": [
    "### Training the model"
   ]
  },
  {
   "cell_type": "code",
   "execution_count": 19,
   "metadata": {
    "colab": {
     "base_uri": "https://localhost:8080/",
     "height": 432
    },
    "id": "bu5euFIrLFyN",
    "outputId": "0888f699-40ae-4114-da1e-e3fd3fe0970a"
   },
   "outputs": [
    {
     "name": "stderr",
     "output_type": "stream",
     "text": [
      " 33%|███▎      | 50/150 [00:42<01:15,  1.33it/s]d:\\ML projects\\Medical_Enity_recognition\\notebook\\env\\lib\\site-packages\\seqeval\\metrics\\v1.py:57: UndefinedMetricWarning: Precision and F-score are ill-defined and being set to 0.0 in labels with no predicted samples. Use `zero_division` parameter to control this behavior.\n",
      "  _warn_prf(average, modifier, msg_start, len(result))\n",
      "d:\\ML projects\\Medical_Enity_recognition\\notebook\\env\\lib\\site-packages\\seqeval\\metrics\\v1.py:57: UndefinedMetricWarning: Precision and F-score are ill-defined and being set to 0.0 due to no predicted samples. Use `zero_division` parameter to control this behavior.\n",
      "  _warn_prf(average, modifier, msg_start, len(result))\n",
      "                                                \n",
      " 33%|███▎      | 50/150 [00:58<01:15,  1.33it/s]"
     ]
    },
    {
     "name": "stdout",
     "output_type": "stream",
     "text": [
      "{'eval_loss': 0.36464211344718933, 'eval_precision': 0.0, 'eval_recall': 0.0, 'eval_f1': 0.0, 'eval_accuracy': 0.9418896321070234, 'eval_runtime': 16.2942, 'eval_samples_per_second': 6.137, 'eval_steps_per_second': 3.069, 'epoch': 1.0}\n"
     ]
    },
    {
     "name": "stderr",
     "output_type": "stream",
     "text": [
      " 67%|██████▋   | 100/150 [02:50<00:48,  1.04it/s]d:\\ML projects\\Medical_Enity_recognition\\notebook\\env\\lib\\site-packages\\seqeval\\metrics\\v1.py:57: UndefinedMetricWarning: Precision and F-score are ill-defined and being set to 0.0 in labels with no predicted samples. Use `zero_division` parameter to control this behavior.\n",
      "  _warn_prf(average, modifier, msg_start, len(result))\n",
      "d:\\ML projects\\Medical_Enity_recognition\\notebook\\env\\lib\\site-packages\\seqeval\\metrics\\v1.py:57: UndefinedMetricWarning: Precision and F-score are ill-defined and being set to 0.0 due to no predicted samples. Use `zero_division` parameter to control this behavior.\n",
      "  _warn_prf(average, modifier, msg_start, len(result))\n",
      "                                                 \n",
      " 67%|██████▋   | 100/150 [03:07<00:48,  1.04it/s]"
     ]
    },
    {
     "name": "stdout",
     "output_type": "stream",
     "text": [
      "{'eval_loss': 0.29774752259254456, 'eval_precision': 0.0, 'eval_recall': 0.0, 'eval_f1': 0.0, 'eval_accuracy': 0.9418896321070234, 'eval_runtime': 16.1974, 'eval_samples_per_second': 6.174, 'eval_steps_per_second': 3.087, 'epoch': 2.0}\n"
     ]
    },
    {
     "name": "stderr",
     "output_type": "stream",
     "text": [
      "100%|██████████| 150/150 [04:29<00:00,  1.25it/s]d:\\ML projects\\Medical_Enity_recognition\\notebook\\env\\lib\\site-packages\\seqeval\\metrics\\v1.py:57: UndefinedMetricWarning: Precision and F-score are ill-defined and being set to 0.0 in labels with no predicted samples. Use `zero_division` parameter to control this behavior.\n",
      "  _warn_prf(average, modifier, msg_start, len(result))\n",
      "d:\\ML projects\\Medical_Enity_recognition\\notebook\\env\\lib\\site-packages\\seqeval\\metrics\\v1.py:57: UndefinedMetricWarning: Precision and F-score are ill-defined and being set to 0.0 due to no predicted samples. Use `zero_division` parameter to control this behavior.\n",
      "  _warn_prf(average, modifier, msg_start, len(result))\n",
      "                                                 \n",
      "100%|██████████| 150/150 [04:47<00:00,  1.25it/s]"
     ]
    },
    {
     "name": "stdout",
     "output_type": "stream",
     "text": [
      "{'eval_loss': 0.25195467472076416, 'eval_precision': 0.0, 'eval_recall': 0.0, 'eval_f1': 0.0, 'eval_accuracy': 0.9418896321070234, 'eval_runtime': 18.127, 'eval_samples_per_second': 5.517, 'eval_steps_per_second': 2.758, 'epoch': 3.0}\n"
     ]
    },
    {
     "name": "stderr",
     "output_type": "stream",
     "text": [
      "100%|██████████| 150/150 [05:27<00:00,  2.18s/it]"
     ]
    },
    {
     "name": "stdout",
     "output_type": "stream",
     "text": [
      "{'train_runtime': 327.4439, 'train_samples_per_second': 0.916, 'train_steps_per_second': 0.458, 'train_loss': 0.47984156290690105, 'epoch': 3.0}\n"
     ]
    },
    {
     "name": "stderr",
     "output_type": "stream",
     "text": [
      "\n"
     ]
    },
    {
     "data": {
      "text/plain": [
       "TrainOutput(global_step=150, training_loss=0.47984156290690105, metrics={'train_runtime': 327.4439, 'train_samples_per_second': 0.916, 'train_steps_per_second': 0.458, 'total_flos': 6441779579640.0, 'train_loss': 0.47984156290690105, 'epoch': 3.0})"
      ]
     },
     "execution_count": 19,
     "metadata": {},
     "output_type": "execute_result"
    }
   ],
   "source": [
    "# Train the model\n",
    "trainer.train()"
   ]
  },
  {
   "cell_type": "code",
   "execution_count": null,
   "metadata": {
    "id": "ea6zhkIoNmeO"
   },
   "outputs": [],
   "source": []
  },
  {
   "cell_type": "code",
   "execution_count": null,
   "metadata": {
    "colab": {
     "base_uri": "https://localhost:8080/",
     "height": 183
    },
    "id": "KTQ9ImNKgfYo",
    "outputId": "662f9817-8558-4be7-e2e0-ccd05484f285"
   },
   "outputs": [],
   "source": [
    "# Evaluate the trained model on the test dataset\n",
    "test_results = trainer.evaluate(eval_dataset=test_dataset)\n",
    "print(\"Test results:\", test_results)"
   ]
  }
 ],
 "metadata": {
  "accelerator": "GPU",
  "colab": {
   "gpuType": "T4",
   "provenance": []
  },
  "kernelspec": {
   "display_name": "Python 3",
   "language": "python",
   "name": "python3"
  },
  "language_info": {
   "codemirror_mode": {
    "name": "ipython",
    "version": 3
   },
   "file_extension": ".py",
   "mimetype": "text/x-python",
   "name": "python",
   "nbconvert_exporter": "python",
   "pygments_lexer": "ipython3",
   "version": "3.10.14"
  },
  "widgets": {
   "application/vnd.jupyter.widget-state+json": {
    "08655f98cd214c618a6e57bf6f3d3e02": {
     "model_module": "@jupyter-widgets/base",
     "model_module_version": "1.2.0",
     "model_name": "LayoutModel",
     "state": {
      "_model_module": "@jupyter-widgets/base",
      "_model_module_version": "1.2.0",
      "_model_name": "LayoutModel",
      "_view_count": null,
      "_view_module": "@jupyter-widgets/base",
      "_view_module_version": "1.2.0",
      "_view_name": "LayoutView",
      "align_content": null,
      "align_items": null,
      "align_self": null,
      "border": null,
      "bottom": null,
      "display": null,
      "flex": null,
      "flex_flow": null,
      "grid_area": null,
      "grid_auto_columns": null,
      "grid_auto_flow": null,
      "grid_auto_rows": null,
      "grid_column": null,
      "grid_gap": null,
      "grid_row": null,
      "grid_template_areas": null,
      "grid_template_columns": null,
      "grid_template_rows": null,
      "height": null,
      "justify_content": null,
      "justify_items": null,
      "left": null,
      "margin": null,
      "max_height": null,
      "max_width": null,
      "min_height": null,
      "min_width": null,
      "object_fit": null,
      "object_position": null,
      "order": null,
      "overflow": null,
      "overflow_x": null,
      "overflow_y": null,
      "padding": null,
      "right": null,
      "top": null,
      "visibility": null,
      "width": null
     }
    },
    "09b2453790434825b5c8f1d3051f6a9e": {
     "model_module": "@jupyter-widgets/controls",
     "model_module_version": "1.5.0",
     "model_name": "FloatProgressModel",
     "state": {
      "_dom_classes": [],
      "_model_module": "@jupyter-widgets/controls",
      "_model_module_version": "1.5.0",
      "_model_name": "FloatProgressModel",
      "_view_count": null,
      "_view_module": "@jupyter-widgets/controls",
      "_view_module_version": "1.5.0",
      "_view_name": "ProgressView",
      "bar_style": "success",
      "description": "",
      "description_tooltip": null,
      "layout": "IPY_MODEL_cb8d35133d314ec2bbe3d82e138d8e51",
      "max": 6338,
      "min": 0,
      "orientation": "horizontal",
      "style": "IPY_MODEL_deb1f39371664c91a05e46f927feb153",
      "value": 6338
     }
    },
    "09e3c9f6e78f43ee8893226652f5afa6": {
     "model_module": "@jupyter-widgets/base",
     "model_module_version": "1.2.0",
     "model_name": "LayoutModel",
     "state": {
      "_model_module": "@jupyter-widgets/base",
      "_model_module_version": "1.2.0",
      "_model_name": "LayoutModel",
      "_view_count": null,
      "_view_module": "@jupyter-widgets/base",
      "_view_module_version": "1.2.0",
      "_view_name": "LayoutView",
      "align_content": null,
      "align_items": null,
      "align_self": null,
      "border": null,
      "bottom": null,
      "display": null,
      "flex": null,
      "flex_flow": null,
      "grid_area": null,
      "grid_auto_columns": null,
      "grid_auto_flow": null,
      "grid_auto_rows": null,
      "grid_column": null,
      "grid_gap": null,
      "grid_row": null,
      "grid_template_areas": null,
      "grid_template_columns": null,
      "grid_template_rows": null,
      "height": null,
      "justify_content": null,
      "justify_items": null,
      "left": null,
      "margin": null,
      "max_height": null,
      "max_width": null,
      "min_height": null,
      "min_width": null,
      "object_fit": null,
      "object_position": null,
      "order": null,
      "overflow": null,
      "overflow_x": null,
      "overflow_y": null,
      "padding": null,
      "right": null,
      "top": null,
      "visibility": null,
      "width": null
     }
    },
    "0b6523e0bbdb45438024b3d2d2732b0a": {
     "model_module": "@jupyter-widgets/controls",
     "model_module_version": "1.5.0",
     "model_name": "HBoxModel",
     "state": {
      "_dom_classes": [],
      "_model_module": "@jupyter-widgets/controls",
      "_model_module_version": "1.5.0",
      "_model_name": "HBoxModel",
      "_view_count": null,
      "_view_module": "@jupyter-widgets/controls",
      "_view_module_version": "1.5.0",
      "_view_name": "HBoxView",
      "box_style": "",
      "children": [
       "IPY_MODEL_b2424abecf3848358b635e0b11bd4409",
       "IPY_MODEL_841fe00c5ec14d7b9c064620881df749",
       "IPY_MODEL_b7dd16cd37914c828c6720ec4bc9db49"
      ],
      "layout": "IPY_MODEL_4b1b2fe6839842b58fae13564210caf8"
     }
    },
    "15fb5d8f6ac8442e9ebfb5f7839f982a": {
     "model_module": "@jupyter-widgets/controls",
     "model_module_version": "1.5.0",
     "model_name": "HTMLModel",
     "state": {
      "_dom_classes": [],
      "_model_module": "@jupyter-widgets/controls",
      "_model_module_version": "1.5.0",
      "_model_name": "HTMLModel",
      "_view_count": null,
      "_view_module": "@jupyter-widgets/controls",
      "_view_module_version": "1.5.0",
      "_view_name": "HTMLView",
      "description": "",
      "description_tooltip": null,
      "layout": "IPY_MODEL_df2c67c8ffe845258e3b968ed41234c8",
      "placeholder": "​",
      "style": "IPY_MODEL_9b9c4028af5a4fef99413af2d816e7f2",
      "value": "Downloading builder script: 100%"
     }
    },
    "18f742f5923d4ff39b87acb2d997e8d1": {
     "model_module": "@jupyter-widgets/controls",
     "model_module_version": "1.5.0",
     "model_name": "ProgressStyleModel",
     "state": {
      "_model_module": "@jupyter-widgets/controls",
      "_model_module_version": "1.5.0",
      "_model_name": "ProgressStyleModel",
      "_view_count": null,
      "_view_module": "@jupyter-widgets/base",
      "_view_module_version": "1.2.0",
      "_view_name": "StyleView",
      "bar_color": null,
      "description_width": ""
     }
    },
    "19714122faf24145b0edc8bc64ae6401": {
     "model_module": "@jupyter-widgets/base",
     "model_module_version": "1.2.0",
     "model_name": "LayoutModel",
     "state": {
      "_model_module": "@jupyter-widgets/base",
      "_model_module_version": "1.2.0",
      "_model_name": "LayoutModel",
      "_view_count": null,
      "_view_module": "@jupyter-widgets/base",
      "_view_module_version": "1.2.0",
      "_view_name": "LayoutView",
      "align_content": null,
      "align_items": null,
      "align_self": null,
      "border": null,
      "bottom": null,
      "display": null,
      "flex": null,
      "flex_flow": null,
      "grid_area": null,
      "grid_auto_columns": null,
      "grid_auto_flow": null,
      "grid_auto_rows": null,
      "grid_column": null,
      "grid_gap": null,
      "grid_row": null,
      "grid_template_areas": null,
      "grid_template_columns": null,
      "grid_template_rows": null,
      "height": null,
      "justify_content": null,
      "justify_items": null,
      "left": null,
      "margin": null,
      "max_height": null,
      "max_width": null,
      "min_height": null,
      "min_width": null,
      "object_fit": null,
      "object_position": null,
      "order": null,
      "overflow": null,
      "overflow_x": null,
      "overflow_y": null,
      "padding": null,
      "right": null,
      "top": null,
      "visibility": null,
      "width": null
     }
    },
    "1c627d401da84b5397256c606363b118": {
     "model_module": "@jupyter-widgets/controls",
     "model_module_version": "1.5.0",
     "model_name": "HBoxModel",
     "state": {
      "_dom_classes": [],
      "_model_module": "@jupyter-widgets/controls",
      "_model_module_version": "1.5.0",
      "_model_name": "HBoxModel",
      "_view_count": null,
      "_view_module": "@jupyter-widgets/controls",
      "_view_module_version": "1.5.0",
      "_view_name": "HBoxView",
      "box_style": "",
      "children": [
       "IPY_MODEL_e7f356148dc94cd5987437da1917bde7",
       "IPY_MODEL_98068db939e9497dbbdf836c862218ba",
       "IPY_MODEL_3d067c3508064c6e982751fb76c2513c"
      ],
      "layout": "IPY_MODEL_09e3c9f6e78f43ee8893226652f5afa6"
     }
    },
    "29d44e1293c948ca85bd6aed2ab2970d": {
     "model_module": "@jupyter-widgets/base",
     "model_module_version": "1.2.0",
     "model_name": "LayoutModel",
     "state": {
      "_model_module": "@jupyter-widgets/base",
      "_model_module_version": "1.2.0",
      "_model_name": "LayoutModel",
      "_view_count": null,
      "_view_module": "@jupyter-widgets/base",
      "_view_module_version": "1.2.0",
      "_view_name": "LayoutView",
      "align_content": null,
      "align_items": null,
      "align_self": null,
      "border": null,
      "bottom": null,
      "display": null,
      "flex": null,
      "flex_flow": null,
      "grid_area": null,
      "grid_auto_columns": null,
      "grid_auto_flow": null,
      "grid_auto_rows": null,
      "grid_column": null,
      "grid_gap": null,
      "grid_row": null,
      "grid_template_areas": null,
      "grid_template_columns": null,
      "grid_template_rows": null,
      "height": null,
      "justify_content": null,
      "justify_items": null,
      "left": null,
      "margin": null,
      "max_height": null,
      "max_width": null,
      "min_height": null,
      "min_width": null,
      "object_fit": null,
      "object_position": null,
      "order": null,
      "overflow": null,
      "overflow_x": null,
      "overflow_y": null,
      "padding": null,
      "right": null,
      "top": null,
      "visibility": null,
      "width": null
     }
    },
    "29dba5c6ca93455485c3ef7a3999fcd4": {
     "model_module": "@jupyter-widgets/base",
     "model_module_version": "1.2.0",
     "model_name": "LayoutModel",
     "state": {
      "_model_module": "@jupyter-widgets/base",
      "_model_module_version": "1.2.0",
      "_model_name": "LayoutModel",
      "_view_count": null,
      "_view_module": "@jupyter-widgets/base",
      "_view_module_version": "1.2.0",
      "_view_name": "LayoutView",
      "align_content": null,
      "align_items": null,
      "align_self": null,
      "border": null,
      "bottom": null,
      "display": null,
      "flex": null,
      "flex_flow": null,
      "grid_area": null,
      "grid_auto_columns": null,
      "grid_auto_flow": null,
      "grid_auto_rows": null,
      "grid_column": null,
      "grid_gap": null,
      "grid_row": null,
      "grid_template_areas": null,
      "grid_template_columns": null,
      "grid_template_rows": null,
      "height": null,
      "justify_content": null,
      "justify_items": null,
      "left": null,
      "margin": null,
      "max_height": null,
      "max_width": null,
      "min_height": null,
      "min_width": null,
      "object_fit": null,
      "object_position": null,
      "order": null,
      "overflow": null,
      "overflow_x": null,
      "overflow_y": null,
      "padding": null,
      "right": null,
      "top": null,
      "visibility": null,
      "width": null
     }
    },
    "2fe4a7068218434e974dcdb2bf8c5a89": {
     "model_module": "@jupyter-widgets/controls",
     "model_module_version": "1.5.0",
     "model_name": "DescriptionStyleModel",
     "state": {
      "_model_module": "@jupyter-widgets/controls",
      "_model_module_version": "1.5.0",
      "_model_name": "DescriptionStyleModel",
      "_view_count": null,
      "_view_module": "@jupyter-widgets/base",
      "_view_module_version": "1.2.0",
      "_view_name": "StyleView",
      "description_width": ""
     }
    },
    "305fa88f55dd4534b86d6e956a2722f4": {
     "model_module": "@jupyter-widgets/base",
     "model_module_version": "1.2.0",
     "model_name": "LayoutModel",
     "state": {
      "_model_module": "@jupyter-widgets/base",
      "_model_module_version": "1.2.0",
      "_model_name": "LayoutModel",
      "_view_count": null,
      "_view_module": "@jupyter-widgets/base",
      "_view_module_version": "1.2.0",
      "_view_name": "LayoutView",
      "align_content": null,
      "align_items": null,
      "align_self": null,
      "border": null,
      "bottom": null,
      "display": null,
      "flex": null,
      "flex_flow": null,
      "grid_area": null,
      "grid_auto_columns": null,
      "grid_auto_flow": null,
      "grid_auto_rows": null,
      "grid_column": null,
      "grid_gap": null,
      "grid_row": null,
      "grid_template_areas": null,
      "grid_template_columns": null,
      "grid_template_rows": null,
      "height": null,
      "justify_content": null,
      "justify_items": null,
      "left": null,
      "margin": null,
      "max_height": null,
      "max_width": null,
      "min_height": null,
      "min_width": null,
      "object_fit": null,
      "object_position": null,
      "order": null,
      "overflow": null,
      "overflow_x": null,
      "overflow_y": null,
      "padding": null,
      "right": null,
      "top": null,
      "visibility": null,
      "width": "20px"
     }
    },
    "3d067c3508064c6e982751fb76c2513c": {
     "model_module": "@jupyter-widgets/controls",
     "model_module_version": "1.5.0",
     "model_name": "HTMLModel",
     "state": {
      "_dom_classes": [],
      "_model_module": "@jupyter-widgets/controls",
      "_model_module_version": "1.5.0",
      "_model_name": "HTMLModel",
      "_view_count": null,
      "_view_module": "@jupyter-widgets/controls",
      "_view_module_version": "1.5.0",
      "_view_name": "HTMLView",
      "description": "",
      "description_tooltip": null,
      "layout": "IPY_MODEL_19714122faf24145b0edc8bc64ae6401",
      "placeholder": "​",
      "style": "IPY_MODEL_d1279ee8147f45d89e68d24832eb21c6",
      "value": " 2266/0 [00:00&lt;00:00, 9346.13 examples/s]"
     }
    },
    "46229d1b27da440589d2e99d67938d24": {
     "model_module": "@jupyter-widgets/base",
     "model_module_version": "1.2.0",
     "model_name": "LayoutModel",
     "state": {
      "_model_module": "@jupyter-widgets/base",
      "_model_module_version": "1.2.0",
      "_model_name": "LayoutModel",
      "_view_count": null,
      "_view_module": "@jupyter-widgets/base",
      "_view_module_version": "1.2.0",
      "_view_name": "LayoutView",
      "align_content": null,
      "align_items": null,
      "align_self": null,
      "border": null,
      "bottom": null,
      "display": null,
      "flex": null,
      "flex_flow": null,
      "grid_area": null,
      "grid_auto_columns": null,
      "grid_auto_flow": null,
      "grid_auto_rows": null,
      "grid_column": null,
      "grid_gap": null,
      "grid_row": null,
      "grid_template_areas": null,
      "grid_template_columns": null,
      "grid_template_rows": null,
      "height": null,
      "justify_content": null,
      "justify_items": null,
      "left": null,
      "margin": null,
      "max_height": null,
      "max_width": null,
      "min_height": null,
      "min_width": null,
      "object_fit": null,
      "object_position": null,
      "order": null,
      "overflow": null,
      "overflow_x": null,
      "overflow_y": null,
      "padding": null,
      "right": null,
      "top": null,
      "visibility": null,
      "width": null
     }
    },
    "4b1b2fe6839842b58fae13564210caf8": {
     "model_module": "@jupyter-widgets/base",
     "model_module_version": "1.2.0",
     "model_name": "LayoutModel",
     "state": {
      "_model_module": "@jupyter-widgets/base",
      "_model_module_version": "1.2.0",
      "_model_name": "LayoutModel",
      "_view_count": null,
      "_view_module": "@jupyter-widgets/base",
      "_view_module_version": "1.2.0",
      "_view_name": "LayoutView",
      "align_content": null,
      "align_items": null,
      "align_self": null,
      "border": null,
      "bottom": null,
      "display": null,
      "flex": null,
      "flex_flow": null,
      "grid_area": null,
      "grid_auto_columns": null,
      "grid_auto_flow": null,
      "grid_auto_rows": null,
      "grid_column": null,
      "grid_gap": null,
      "grid_row": null,
      "grid_template_areas": null,
      "grid_template_columns": null,
      "grid_template_rows": null,
      "height": null,
      "justify_content": null,
      "justify_items": null,
      "left": null,
      "margin": null,
      "max_height": null,
      "max_width": null,
      "min_height": null,
      "min_width": null,
      "object_fit": null,
      "object_position": null,
      "order": null,
      "overflow": null,
      "overflow_x": null,
      "overflow_y": null,
      "padding": null,
      "right": null,
      "top": null,
      "visibility": null,
      "width": null
     }
    },
    "4d73484bdfa84d1fbedd6d0040397f80": {
     "model_module": "@jupyter-widgets/controls",
     "model_module_version": "1.5.0",
     "model_name": "ProgressStyleModel",
     "state": {
      "_model_module": "@jupyter-widgets/controls",
      "_model_module_version": "1.5.0",
      "_model_name": "ProgressStyleModel",
      "_view_count": null,
      "_view_module": "@jupyter-widgets/base",
      "_view_module_version": "1.2.0",
      "_view_name": "StyleView",
      "bar_color": null,
      "description_width": ""
     }
    },
    "4e924dd7e278471298297d0d9cd65f4d": {
     "model_module": "@jupyter-widgets/controls",
     "model_module_version": "1.5.0",
     "model_name": "DescriptionStyleModel",
     "state": {
      "_model_module": "@jupyter-widgets/controls",
      "_model_module_version": "1.5.0",
      "_model_name": "DescriptionStyleModel",
      "_view_count": null,
      "_view_module": "@jupyter-widgets/base",
      "_view_module_version": "1.2.0",
      "_view_name": "StyleView",
      "description_width": ""
     }
    },
    "525d3ad6f29642e492f97e89f4377b14": {
     "model_module": "@jupyter-widgets/controls",
     "model_module_version": "1.5.0",
     "model_name": "FloatProgressModel",
     "state": {
      "_dom_classes": [],
      "_model_module": "@jupyter-widgets/controls",
      "_model_module_version": "1.5.0",
      "_model_name": "FloatProgressModel",
      "_view_count": null,
      "_view_module": "@jupyter-widgets/controls",
      "_view_module_version": "1.5.0",
      "_view_name": "ProgressView",
      "bar_style": "success",
      "description": "",
      "description_tooltip": null,
      "layout": "IPY_MODEL_5f9c18528a0a4ef8b223a79b0053b5c8",
      "max": 454,
      "min": 0,
      "orientation": "horizontal",
      "style": "IPY_MODEL_18f742f5923d4ff39b87acb2d997e8d1",
      "value": 454
     }
    },
    "5f9c18528a0a4ef8b223a79b0053b5c8": {
     "model_module": "@jupyter-widgets/base",
     "model_module_version": "1.2.0",
     "model_name": "LayoutModel",
     "state": {
      "_model_module": "@jupyter-widgets/base",
      "_model_module_version": "1.2.0",
      "_model_name": "LayoutModel",
      "_view_count": null,
      "_view_module": "@jupyter-widgets/base",
      "_view_module_version": "1.2.0",
      "_view_name": "LayoutView",
      "align_content": null,
      "align_items": null,
      "align_self": null,
      "border": null,
      "bottom": null,
      "display": null,
      "flex": null,
      "flex_flow": null,
      "grid_area": null,
      "grid_auto_columns": null,
      "grid_auto_flow": null,
      "grid_auto_rows": null,
      "grid_column": null,
      "grid_gap": null,
      "grid_row": null,
      "grid_template_areas": null,
      "grid_template_columns": null,
      "grid_template_rows": null,
      "height": null,
      "justify_content": null,
      "justify_items": null,
      "left": null,
      "margin": null,
      "max_height": null,
      "max_width": null,
      "min_height": null,
      "min_width": null,
      "object_fit": null,
      "object_position": null,
      "order": null,
      "overflow": null,
      "overflow_x": null,
      "overflow_y": null,
      "padding": null,
      "right": null,
      "top": null,
      "visibility": null,
      "width": null
     }
    },
    "670836c2aec8423bb5fda4e003017035": {
     "model_module": "@jupyter-widgets/controls",
     "model_module_version": "1.5.0",
     "model_name": "DescriptionStyleModel",
     "state": {
      "_model_module": "@jupyter-widgets/controls",
      "_model_module_version": "1.5.0",
      "_model_name": "DescriptionStyleModel",
      "_view_count": null,
      "_view_module": "@jupyter-widgets/base",
      "_view_module_version": "1.2.0",
      "_view_name": "StyleView",
      "description_width": ""
     }
    },
    "77cd3451f33249489c5a3e9588a093dc": {
     "model_module": "@jupyter-widgets/base",
     "model_module_version": "1.2.0",
     "model_name": "LayoutModel",
     "state": {
      "_model_module": "@jupyter-widgets/base",
      "_model_module_version": "1.2.0",
      "_model_name": "LayoutModel",
      "_view_count": null,
      "_view_module": "@jupyter-widgets/base",
      "_view_module_version": "1.2.0",
      "_view_name": "LayoutView",
      "align_content": null,
      "align_items": null,
      "align_self": null,
      "border": null,
      "bottom": null,
      "display": null,
      "flex": null,
      "flex_flow": null,
      "grid_area": null,
      "grid_auto_columns": null,
      "grid_auto_flow": null,
      "grid_auto_rows": null,
      "grid_column": null,
      "grid_gap": null,
      "grid_row": null,
      "grid_template_areas": null,
      "grid_template_columns": null,
      "grid_template_rows": null,
      "height": null,
      "justify_content": null,
      "justify_items": null,
      "left": null,
      "margin": null,
      "max_height": null,
      "max_width": null,
      "min_height": null,
      "min_width": null,
      "object_fit": null,
      "object_position": null,
      "order": null,
      "overflow": null,
      "overflow_x": null,
      "overflow_y": null,
      "padding": null,
      "right": null,
      "top": null,
      "visibility": null,
      "width": null
     }
    },
    "7f8971bd6b92463f90ace335b9bae947": {
     "model_module": "@jupyter-widgets/controls",
     "model_module_version": "1.5.0",
     "model_name": "HTMLModel",
     "state": {
      "_dom_classes": [],
      "_model_module": "@jupyter-widgets/controls",
      "_model_module_version": "1.5.0",
      "_model_name": "HTMLModel",
      "_view_count": null,
      "_view_module": "@jupyter-widgets/controls",
      "_view_module_version": "1.5.0",
      "_view_name": "HTMLView",
      "description": "",
      "description_tooltip": null,
      "layout": "IPY_MODEL_29dba5c6ca93455485c3ef7a3999fcd4",
      "placeholder": "​",
      "style": "IPY_MODEL_4e924dd7e278471298297d0d9cd65f4d",
      "value": " 6.34k/6.34k [00:00&lt;00:00, 147kB/s]"
     }
    },
    "823fcbba62b44b2fafe607112e9a560f": {
     "model_module": "@jupyter-widgets/controls",
     "model_module_version": "1.5.0",
     "model_name": "HBoxModel",
     "state": {
      "_dom_classes": [],
      "_model_module": "@jupyter-widgets/controls",
      "_model_module_version": "1.5.0",
      "_model_name": "HBoxModel",
      "_view_count": null,
      "_view_module": "@jupyter-widgets/controls",
      "_view_module_version": "1.5.0",
      "_view_name": "HBoxView",
      "box_style": "",
      "children": [
       "IPY_MODEL_15fb5d8f6ac8442e9ebfb5f7839f982a",
       "IPY_MODEL_09b2453790434825b5c8f1d3051f6a9e",
       "IPY_MODEL_7f8971bd6b92463f90ace335b9bae947"
      ],
      "layout": "IPY_MODEL_d282e874dfa44409a77c0587af73fee7"
     }
    },
    "83d0bf55cb1c4924adcb72a9f6a9742b": {
     "model_module": "@jupyter-widgets/controls",
     "model_module_version": "1.5.0",
     "model_name": "DescriptionStyleModel",
     "state": {
      "_model_module": "@jupyter-widgets/controls",
      "_model_module_version": "1.5.0",
      "_model_name": "DescriptionStyleModel",
      "_view_count": null,
      "_view_module": "@jupyter-widgets/base",
      "_view_module_version": "1.2.0",
      "_view_name": "StyleView",
      "description_width": ""
     }
    },
    "841fe00c5ec14d7b9c064620881df749": {
     "model_module": "@jupyter-widgets/controls",
     "model_module_version": "1.5.0",
     "model_name": "FloatProgressModel",
     "state": {
      "_dom_classes": [],
      "_model_module": "@jupyter-widgets/controls",
      "_model_module_version": "1.5.0",
      "_model_name": "FloatProgressModel",
      "_view_count": null,
      "_view_module": "@jupyter-widgets/controls",
      "_view_module_version": "1.5.0",
      "_view_name": "ProgressView",
      "bar_style": "success",
      "description": "",
      "description_tooltip": null,
      "layout": "IPY_MODEL_a5b56bce7c474461b6db66c56afe05c3",
      "max": 1812,
      "min": 0,
      "orientation": "horizontal",
      "style": "IPY_MODEL_b09ccde13d6342e3807c0fcdc50cadde",
      "value": 1812
     }
    },
    "9311f52c921e486db06a2f71ba229d51": {
     "model_module": "@jupyter-widgets/controls",
     "model_module_version": "1.5.0",
     "model_name": "HTMLModel",
     "state": {
      "_dom_classes": [],
      "_model_module": "@jupyter-widgets/controls",
      "_model_module_version": "1.5.0",
      "_model_name": "HTMLModel",
      "_view_count": null,
      "_view_module": "@jupyter-widgets/controls",
      "_view_module_version": "1.5.0",
      "_view_name": "HTMLView",
      "description": "",
      "description_tooltip": null,
      "layout": "IPY_MODEL_29d44e1293c948ca85bd6aed2ab2970d",
      "placeholder": "​",
      "style": "IPY_MODEL_2fe4a7068218434e974dcdb2bf8c5a89",
      "value": " 454/454 [00:00&lt;00:00, 1471.91 examples/s]"
     }
    },
    "98068db939e9497dbbdf836c862218ba": {
     "model_module": "@jupyter-widgets/controls",
     "model_module_version": "1.5.0",
     "model_name": "FloatProgressModel",
     "state": {
      "_dom_classes": [],
      "_model_module": "@jupyter-widgets/controls",
      "_model_module_version": "1.5.0",
      "_model_name": "FloatProgressModel",
      "_view_count": null,
      "_view_module": "@jupyter-widgets/controls",
      "_view_module_version": "1.5.0",
      "_view_name": "ProgressView",
      "bar_style": "success",
      "description": "",
      "description_tooltip": null,
      "layout": "IPY_MODEL_305fa88f55dd4534b86d6e956a2722f4",
      "max": 1,
      "min": 0,
      "orientation": "horizontal",
      "style": "IPY_MODEL_4d73484bdfa84d1fbedd6d0040397f80",
      "value": 1
     }
    },
    "9b9c4028af5a4fef99413af2d816e7f2": {
     "model_module": "@jupyter-widgets/controls",
     "model_module_version": "1.5.0",
     "model_name": "DescriptionStyleModel",
     "state": {
      "_model_module": "@jupyter-widgets/controls",
      "_model_module_version": "1.5.0",
      "_model_name": "DescriptionStyleModel",
      "_view_count": null,
      "_view_module": "@jupyter-widgets/base",
      "_view_module_version": "1.2.0",
      "_view_name": "StyleView",
      "description_width": ""
     }
    },
    "a4386c9508f04c6b81fbe44977dbfdcb": {
     "model_module": "@jupyter-widgets/controls",
     "model_module_version": "1.5.0",
     "model_name": "DescriptionStyleModel",
     "state": {
      "_model_module": "@jupyter-widgets/controls",
      "_model_module_version": "1.5.0",
      "_model_name": "DescriptionStyleModel",
      "_view_count": null,
      "_view_module": "@jupyter-widgets/base",
      "_view_module_version": "1.2.0",
      "_view_name": "StyleView",
      "description_width": ""
     }
    },
    "a5b56bce7c474461b6db66c56afe05c3": {
     "model_module": "@jupyter-widgets/base",
     "model_module_version": "1.2.0",
     "model_name": "LayoutModel",
     "state": {
      "_model_module": "@jupyter-widgets/base",
      "_model_module_version": "1.2.0",
      "_model_name": "LayoutModel",
      "_view_count": null,
      "_view_module": "@jupyter-widgets/base",
      "_view_module_version": "1.2.0",
      "_view_name": "LayoutView",
      "align_content": null,
      "align_items": null,
      "align_self": null,
      "border": null,
      "bottom": null,
      "display": null,
      "flex": null,
      "flex_flow": null,
      "grid_area": null,
      "grid_auto_columns": null,
      "grid_auto_flow": null,
      "grid_auto_rows": null,
      "grid_column": null,
      "grid_gap": null,
      "grid_row": null,
      "grid_template_areas": null,
      "grid_template_columns": null,
      "grid_template_rows": null,
      "height": null,
      "justify_content": null,
      "justify_items": null,
      "left": null,
      "margin": null,
      "max_height": null,
      "max_width": null,
      "min_height": null,
      "min_width": null,
      "object_fit": null,
      "object_position": null,
      "order": null,
      "overflow": null,
      "overflow_x": null,
      "overflow_y": null,
      "padding": null,
      "right": null,
      "top": null,
      "visibility": null,
      "width": null
     }
    },
    "ad60bc9d9e3c4fdeb4ad36d0ac2d098e": {
     "model_module": "@jupyter-widgets/controls",
     "model_module_version": "1.5.0",
     "model_name": "HTMLModel",
     "state": {
      "_dom_classes": [],
      "_model_module": "@jupyter-widgets/controls",
      "_model_module_version": "1.5.0",
      "_model_name": "HTMLModel",
      "_view_count": null,
      "_view_module": "@jupyter-widgets/controls",
      "_view_module_version": "1.5.0",
      "_view_name": "HTMLView",
      "description": "",
      "description_tooltip": null,
      "layout": "IPY_MODEL_08655f98cd214c618a6e57bf6f3d3e02",
      "placeholder": "​",
      "style": "IPY_MODEL_d40f126745b8479eaf46f3ababfed9cf",
      "value": "Map: 100%"
     }
    },
    "ae60d288b0e845b692212b578381089a": {
     "model_module": "@jupyter-widgets/controls",
     "model_module_version": "1.5.0",
     "model_name": "HBoxModel",
     "state": {
      "_dom_classes": [],
      "_model_module": "@jupyter-widgets/controls",
      "_model_module_version": "1.5.0",
      "_model_name": "HBoxModel",
      "_view_count": null,
      "_view_module": "@jupyter-widgets/controls",
      "_view_module_version": "1.5.0",
      "_view_name": "HBoxView",
      "box_style": "",
      "children": [
       "IPY_MODEL_ad60bc9d9e3c4fdeb4ad36d0ac2d098e",
       "IPY_MODEL_525d3ad6f29642e492f97e89f4377b14",
       "IPY_MODEL_9311f52c921e486db06a2f71ba229d51"
      ],
      "layout": "IPY_MODEL_b10bdf486ecd44588573d4933c38ff67"
     }
    },
    "b09ccde13d6342e3807c0fcdc50cadde": {
     "model_module": "@jupyter-widgets/controls",
     "model_module_version": "1.5.0",
     "model_name": "ProgressStyleModel",
     "state": {
      "_model_module": "@jupyter-widgets/controls",
      "_model_module_version": "1.5.0",
      "_model_name": "ProgressStyleModel",
      "_view_count": null,
      "_view_module": "@jupyter-widgets/base",
      "_view_module_version": "1.2.0",
      "_view_name": "StyleView",
      "bar_color": null,
      "description_width": ""
     }
    },
    "b10bdf486ecd44588573d4933c38ff67": {
     "model_module": "@jupyter-widgets/base",
     "model_module_version": "1.2.0",
     "model_name": "LayoutModel",
     "state": {
      "_model_module": "@jupyter-widgets/base",
      "_model_module_version": "1.2.0",
      "_model_name": "LayoutModel",
      "_view_count": null,
      "_view_module": "@jupyter-widgets/base",
      "_view_module_version": "1.2.0",
      "_view_name": "LayoutView",
      "align_content": null,
      "align_items": null,
      "align_self": null,
      "border": null,
      "bottom": null,
      "display": null,
      "flex": null,
      "flex_flow": null,
      "grid_area": null,
      "grid_auto_columns": null,
      "grid_auto_flow": null,
      "grid_auto_rows": null,
      "grid_column": null,
      "grid_gap": null,
      "grid_row": null,
      "grid_template_areas": null,
      "grid_template_columns": null,
      "grid_template_rows": null,
      "height": null,
      "justify_content": null,
      "justify_items": null,
      "left": null,
      "margin": null,
      "max_height": null,
      "max_width": null,
      "min_height": null,
      "min_width": null,
      "object_fit": null,
      "object_position": null,
      "order": null,
      "overflow": null,
      "overflow_x": null,
      "overflow_y": null,
      "padding": null,
      "right": null,
      "top": null,
      "visibility": null,
      "width": null
     }
    },
    "b2424abecf3848358b635e0b11bd4409": {
     "model_module": "@jupyter-widgets/controls",
     "model_module_version": "1.5.0",
     "model_name": "HTMLModel",
     "state": {
      "_dom_classes": [],
      "_model_module": "@jupyter-widgets/controls",
      "_model_module_version": "1.5.0",
      "_model_name": "HTMLModel",
      "_view_count": null,
      "_view_module": "@jupyter-widgets/controls",
      "_view_module_version": "1.5.0",
      "_view_name": "HTMLView",
      "description": "",
      "description_tooltip": null,
      "layout": "IPY_MODEL_77cd3451f33249489c5a3e9588a093dc",
      "placeholder": "​",
      "style": "IPY_MODEL_83d0bf55cb1c4924adcb72a9f6a9742b",
      "value": "Map: 100%"
     }
    },
    "b7dd16cd37914c828c6720ec4bc9db49": {
     "model_module": "@jupyter-widgets/controls",
     "model_module_version": "1.5.0",
     "model_name": "HTMLModel",
     "state": {
      "_dom_classes": [],
      "_model_module": "@jupyter-widgets/controls",
      "_model_module_version": "1.5.0",
      "_model_name": "HTMLModel",
      "_view_count": null,
      "_view_module": "@jupyter-widgets/controls",
      "_view_module_version": "1.5.0",
      "_view_name": "HTMLView",
      "description": "",
      "description_tooltip": null,
      "layout": "IPY_MODEL_ef520877416e4395b15e1e1358e3b236",
      "placeholder": "​",
      "style": "IPY_MODEL_670836c2aec8423bb5fda4e003017035",
      "value": " 1812/1812 [00:01&lt;00:00, 1580.00 examples/s]"
     }
    },
    "cb8d35133d314ec2bbe3d82e138d8e51": {
     "model_module": "@jupyter-widgets/base",
     "model_module_version": "1.2.0",
     "model_name": "LayoutModel",
     "state": {
      "_model_module": "@jupyter-widgets/base",
      "_model_module_version": "1.2.0",
      "_model_name": "LayoutModel",
      "_view_count": null,
      "_view_module": "@jupyter-widgets/base",
      "_view_module_version": "1.2.0",
      "_view_name": "LayoutView",
      "align_content": null,
      "align_items": null,
      "align_self": null,
      "border": null,
      "bottom": null,
      "display": null,
      "flex": null,
      "flex_flow": null,
      "grid_area": null,
      "grid_auto_columns": null,
      "grid_auto_flow": null,
      "grid_auto_rows": null,
      "grid_column": null,
      "grid_gap": null,
      "grid_row": null,
      "grid_template_areas": null,
      "grid_template_columns": null,
      "grid_template_rows": null,
      "height": null,
      "justify_content": null,
      "justify_items": null,
      "left": null,
      "margin": null,
      "max_height": null,
      "max_width": null,
      "min_height": null,
      "min_width": null,
      "object_fit": null,
      "object_position": null,
      "order": null,
      "overflow": null,
      "overflow_x": null,
      "overflow_y": null,
      "padding": null,
      "right": null,
      "top": null,
      "visibility": null,
      "width": null
     }
    },
    "d1279ee8147f45d89e68d24832eb21c6": {
     "model_module": "@jupyter-widgets/controls",
     "model_module_version": "1.5.0",
     "model_name": "DescriptionStyleModel",
     "state": {
      "_model_module": "@jupyter-widgets/controls",
      "_model_module_version": "1.5.0",
      "_model_name": "DescriptionStyleModel",
      "_view_count": null,
      "_view_module": "@jupyter-widgets/base",
      "_view_module_version": "1.2.0",
      "_view_name": "StyleView",
      "description_width": ""
     }
    },
    "d282e874dfa44409a77c0587af73fee7": {
     "model_module": "@jupyter-widgets/base",
     "model_module_version": "1.2.0",
     "model_name": "LayoutModel",
     "state": {
      "_model_module": "@jupyter-widgets/base",
      "_model_module_version": "1.2.0",
      "_model_name": "LayoutModel",
      "_view_count": null,
      "_view_module": "@jupyter-widgets/base",
      "_view_module_version": "1.2.0",
      "_view_name": "LayoutView",
      "align_content": null,
      "align_items": null,
      "align_self": null,
      "border": null,
      "bottom": null,
      "display": null,
      "flex": null,
      "flex_flow": null,
      "grid_area": null,
      "grid_auto_columns": null,
      "grid_auto_flow": null,
      "grid_auto_rows": null,
      "grid_column": null,
      "grid_gap": null,
      "grid_row": null,
      "grid_template_areas": null,
      "grid_template_columns": null,
      "grid_template_rows": null,
      "height": null,
      "justify_content": null,
      "justify_items": null,
      "left": null,
      "margin": null,
      "max_height": null,
      "max_width": null,
      "min_height": null,
      "min_width": null,
      "object_fit": null,
      "object_position": null,
      "order": null,
      "overflow": null,
      "overflow_x": null,
      "overflow_y": null,
      "padding": null,
      "right": null,
      "top": null,
      "visibility": null,
      "width": null
     }
    },
    "d40f126745b8479eaf46f3ababfed9cf": {
     "model_module": "@jupyter-widgets/controls",
     "model_module_version": "1.5.0",
     "model_name": "DescriptionStyleModel",
     "state": {
      "_model_module": "@jupyter-widgets/controls",
      "_model_module_version": "1.5.0",
      "_model_name": "DescriptionStyleModel",
      "_view_count": null,
      "_view_module": "@jupyter-widgets/base",
      "_view_module_version": "1.2.0",
      "_view_name": "StyleView",
      "description_width": ""
     }
    },
    "deb1f39371664c91a05e46f927feb153": {
     "model_module": "@jupyter-widgets/controls",
     "model_module_version": "1.5.0",
     "model_name": "ProgressStyleModel",
     "state": {
      "_model_module": "@jupyter-widgets/controls",
      "_model_module_version": "1.5.0",
      "_model_name": "ProgressStyleModel",
      "_view_count": null,
      "_view_module": "@jupyter-widgets/base",
      "_view_module_version": "1.2.0",
      "_view_name": "StyleView",
      "bar_color": null,
      "description_width": ""
     }
    },
    "df2c67c8ffe845258e3b968ed41234c8": {
     "model_module": "@jupyter-widgets/base",
     "model_module_version": "1.2.0",
     "model_name": "LayoutModel",
     "state": {
      "_model_module": "@jupyter-widgets/base",
      "_model_module_version": "1.2.0",
      "_model_name": "LayoutModel",
      "_view_count": null,
      "_view_module": "@jupyter-widgets/base",
      "_view_module_version": "1.2.0",
      "_view_name": "LayoutView",
      "align_content": null,
      "align_items": null,
      "align_self": null,
      "border": null,
      "bottom": null,
      "display": null,
      "flex": null,
      "flex_flow": null,
      "grid_area": null,
      "grid_auto_columns": null,
      "grid_auto_flow": null,
      "grid_auto_rows": null,
      "grid_column": null,
      "grid_gap": null,
      "grid_row": null,
      "grid_template_areas": null,
      "grid_template_columns": null,
      "grid_template_rows": null,
      "height": null,
      "justify_content": null,
      "justify_items": null,
      "left": null,
      "margin": null,
      "max_height": null,
      "max_width": null,
      "min_height": null,
      "min_width": null,
      "object_fit": null,
      "object_position": null,
      "order": null,
      "overflow": null,
      "overflow_x": null,
      "overflow_y": null,
      "padding": null,
      "right": null,
      "top": null,
      "visibility": null,
      "width": null
     }
    },
    "e7f356148dc94cd5987437da1917bde7": {
     "model_module": "@jupyter-widgets/controls",
     "model_module_version": "1.5.0",
     "model_name": "HTMLModel",
     "state": {
      "_dom_classes": [],
      "_model_module": "@jupyter-widgets/controls",
      "_model_module_version": "1.5.0",
      "_model_name": "HTMLModel",
      "_view_count": null,
      "_view_module": "@jupyter-widgets/controls",
      "_view_module_version": "1.5.0",
      "_view_name": "HTMLView",
      "description": "",
      "description_tooltip": null,
      "layout": "IPY_MODEL_46229d1b27da440589d2e99d67938d24",
      "placeholder": "​",
      "style": "IPY_MODEL_a4386c9508f04c6b81fbe44977dbfdcb",
      "value": "Generating train split: "
     }
    },
    "ef520877416e4395b15e1e1358e3b236": {
     "model_module": "@jupyter-widgets/base",
     "model_module_version": "1.2.0",
     "model_name": "LayoutModel",
     "state": {
      "_model_module": "@jupyter-widgets/base",
      "_model_module_version": "1.2.0",
      "_model_name": "LayoutModel",
      "_view_count": null,
      "_view_module": "@jupyter-widgets/base",
      "_view_module_version": "1.2.0",
      "_view_name": "LayoutView",
      "align_content": null,
      "align_items": null,
      "align_self": null,
      "border": null,
      "bottom": null,
      "display": null,
      "flex": null,
      "flex_flow": null,
      "grid_area": null,
      "grid_auto_columns": null,
      "grid_auto_flow": null,
      "grid_auto_rows": null,
      "grid_column": null,
      "grid_gap": null,
      "grid_row": null,
      "grid_template_areas": null,
      "grid_template_columns": null,
      "grid_template_rows": null,
      "height": null,
      "justify_content": null,
      "justify_items": null,
      "left": null,
      "margin": null,
      "max_height": null,
      "max_width": null,
      "min_height": null,
      "min_width": null,
      "object_fit": null,
      "object_position": null,
      "order": null,
      "overflow": null,
      "overflow_x": null,
      "overflow_y": null,
      "padding": null,
      "right": null,
      "top": null,
      "visibility": null,
      "width": null
     }
    }
   }
  }
 },
 "nbformat": 4,
 "nbformat_minor": 4
}
